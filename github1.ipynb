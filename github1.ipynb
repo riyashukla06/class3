{
 "cells": [
  {
   "cell_type": "code",
   "execution_count": null,
   "id": "6cd8b683",
   "metadata": {},
   "outputs": [],
   "source": [
    "import pandas as pd\n",
    "from scipy import stats\n",
    "df = pd.read_excel(\"C:/Users/rishavkothari4/Documents/bef-aft course.xlsx\")"
   ]
  },
  {
   "cell_type": "code",
   "execution_count": null,
   "id": "7b23b75b",
   "metadata": {},
   "outputs": [],
   "source": [
    "def paired_t_test(data,bef,aft):\n",
    "    from math import sqrt\n",
    "    df = pd.DataFrame() \n",
    "    df['d'] = data[bef] - data[aft]\n",
    "    df['d2'] = df['d']*df['d']\n",
    "    n = len(df['d'])\n",
    "    b = n*sum(df['d2']) - (sum(df['d']))**2\n",
    "    b = sqrt(b/(n-1))\n",
    "    a = sum(df['d'])\n",
    "    t_value = (a/b)\n",
    "    return(t_value)"
   ]
  },
  {
   "cell_type": "code",
   "execution_count": null,
   "id": "0e6a799f",
   "metadata": {},
   "outputs": [],
   "source": [
    "t_value = paired_t_test(df,'After Course','Before Course')\n",
    "t_value"
   ]
  },
  {
   "cell_type": "code",
   "execution_count": null,
   "id": "af11256e",
   "metadata": {},
   "outputs": [],
   "source": [
    "#alpha = 0.025\n",
    "tab_t = 2.681\n",
    "if t_value > tab_t:\n",
    "    print(f\"We reject null hypothesis\")\n",
    "else:\n",
    "    print(f\"We fail to reject null hypothesis\")"
   ]
  },
  {
   "cell_type": "code",
   "execution_count": null,
   "id": "a7f5c7c5",
   "metadata": {},
   "outputs": [],
   "source": []
  },
  {
   "cell_type": "code",
   "execution_count": null,
   "id": "a13c40b6",
   "metadata": {},
   "outputs": [],
   "source": []
  },
  {
   "cell_type": "code",
   "execution_count": null,
   "id": "59fcb0bf",
   "metadata": {},
   "outputs": [],
   "source": []
  },
  {
   "cell_type": "code",
   "execution_count": null,
   "id": "0c28d618",
   "metadata": {},
   "outputs": [],
   "source": []
  },
  {
   "cell_type": "code",
   "execution_count": null,
   "id": "92242c97",
   "metadata": {},
   "outputs": [],
   "source": []
  }
 ],
 "metadata": {
  "kernelspec": {
   "display_name": "Python 3 (ipykernel)",
   "language": "python",
   "name": "python3"
  },
  "language_info": {
   "codemirror_mode": {
    "name": "ipython",
    "version": 3
   },
   "file_extension": ".py",
   "mimetype": "text/x-python",
   "name": "python",
   "nbconvert_exporter": "python",
   "pygments_lexer": "ipython3",
   "version": "3.9.12"
  }
 },
 "nbformat": 4,
 "nbformat_minor": 5
}
